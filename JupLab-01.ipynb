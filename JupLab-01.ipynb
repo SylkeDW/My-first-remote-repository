{
 "cells": [
  {
   "cell_type": "markdown",
   "id": "7adc535f-7a24-4384-aea5-49a9b6737746",
   "metadata": {},
   "source": [
    "# Hello JupyterLab"
   ]
  },
  {
   "cell_type": "code",
   "execution_count": 2,
   "id": "a6e3749f-4182-4f8c-93e1-e4329fe9c34a",
   "metadata": {},
   "outputs": [
    {
     "data": {
      "text/plain": [
       "9"
      ]
     },
     "execution_count": 2,
     "metadata": {},
     "output_type": "execute_result"
    }
   ],
   "source": [
    "4+5"
   ]
  },
  {
   "cell_type": "code",
   "execution_count": 5,
   "id": "a88c38d0-7858-4766-9b35-43d57868d7c4",
   "metadata": {},
   "outputs": [
    {
     "name": "stdout",
     "output_type": "stream",
     "text": [
      "Hello there!\n"
     ]
    }
   ],
   "source": [
    "print(\"Hello there!\")"
   ]
  },
  {
   "cell_type": "code",
   "execution_count": 6,
   "id": "07feba67-09b5-4bbc-88d1-8d5351d39593",
   "metadata": {},
   "outputs": [],
   "source": [
    "a=10\n",
    "   "
   ]
  },
  {
   "cell_type": "code",
   "execution_count": 7,
   "id": "3a442fc2-2177-4dc1-ad99-f069d15c28ac",
   "metadata": {},
   "outputs": [
    {
     "data": {
      "text/plain": [
       "10"
      ]
     },
     "execution_count": 7,
     "metadata": {},
     "output_type": "execute_result"
    }
   ],
   "source": [
    "a"
   ]
  },
  {
   "cell_type": "code",
   "execution_count": 9,
   "id": "ddaad140-1c82-4d41-aadf-dd08b24c73b0",
   "metadata": {},
   "outputs": [
    {
     "name": "stdout",
     "output_type": "stream",
     "text": [
      "10\n"
     ]
    }
   ],
   "source": [
    "print (a)"
   ]
  },
  {
   "cell_type": "code",
   "execution_count": 10,
   "id": "c51fa9fc-16a2-44e5-b627-f825968d73e5",
   "metadata": {},
   "outputs": [
    {
     "name": "stdout",
     "output_type": "stream",
     "text": [
      "a\n"
     ]
    }
   ],
   "source": [
    "print('a')"
   ]
  },
  {
   "cell_type": "code",
   "execution_count": 12,
   "id": "56ab4e7b-d112-4908-8967-d7232452c4ed",
   "metadata": {},
   "outputs": [
    {
     "name": "stdout",
     "output_type": "stream",
     "text": [
      "20\n"
     ]
    }
   ],
   "source": [
    "def add(num1, num2):\n",
    "    num3 = num1 + num2\n",
    "    return num3\n",
    "# Test function\n",
    "num1, num2 = 5, 15\n",
    "result = add(num1, num2)\n",
    "print(result)\n"
   ]
  },
  {
   "cell_type": "code",
   "execution_count": 13,
   "id": "b68cf861-ecaa-4981-9357-59b2b48d3f6f",
   "metadata": {},
   "outputs": [
    {
     "name": "stdout",
     "output_type": "stream",
     "text": [
      "Hello World!\n"
     ]
    }
   ],
   "source": [
    "print('Hello World!')"
   ]
  },
  {
   "cell_type": "code",
   "execution_count": 24,
   "id": "4db41c1f-4c15-4a95-b39b-ff59e4a17066",
   "metadata": {},
   "outputs": [],
   "source": [
    "def hello():\n",
    "    print('Hello World!')"
   ]
  },
  {
   "cell_type": "code",
   "execution_count": 26,
   "id": "8aada456-5161-447e-b3f2-181a9d20ea12",
   "metadata": {},
   "outputs": [
    {
     "name": "stdout",
     "output_type": "stream",
     "text": [
      "Hello World!\n"
     ]
    }
   ],
   "source": [
    "hello()"
   ]
  },
  {
   "cell_type": "code",
   "execution_count": 27,
   "id": "be3602ce-333a-4ff1-8dd1-f0a7bfeef6dc",
   "metadata": {},
   "outputs": [],
   "source": [
    "def hello(naam='World'):\n",
    "    print('Hello '+ naam + '!')"
   ]
  },
  {
   "cell_type": "code",
   "execution_count": 28,
   "id": "43ff7de0-658e-4ef6-95f2-045d650d964f",
   "metadata": {},
   "outputs": [
    {
     "name": "stdout",
     "output_type": "stream",
     "text": [
      "Hello World!\n"
     ]
    }
   ],
   "source": [
    "hello()"
   ]
  },
  {
   "cell_type": "code",
   "execution_count": 30,
   "id": "877eeb26-1163-470c-8a7c-3124dc088785",
   "metadata": {},
   "outputs": [
    {
     "name": "stdout",
     "output_type": "stream",
     "text": [
      "Hello Sylke!\n"
     ]
    }
   ],
   "source": [
    "hello('Sylke')"
   ]
  },
  {
   "cell_type": "code",
   "execution_count": 1,
   "id": "fbe32d02-bad0-49b8-8324-d74f90091375",
   "metadata": {},
   "outputs": [
    {
     "data": {
      "text/plain": [
       "2"
      ]
     },
     "execution_count": 1,
     "metadata": {},
     "output_type": "execute_result"
    }
   ],
   "source": [
    "1+1"
   ]
  },
  {
   "cell_type": "code",
   "execution_count": null,
   "id": "4d0cb900-c201-4e62-a81b-e374b94176ec",
   "metadata": {},
   "outputs": [],
   "source": []
  }
 ],
 "metadata": {
  "kernelspec": {
   "display_name": "Python 3 (ipykernel)",
   "language": "python",
   "name": "python3"
  },
  "language_info": {
   "codemirror_mode": {
    "name": "ipython",
    "version": 3
   },
   "file_extension": ".py",
   "mimetype": "text/x-python",
   "name": "python",
   "nbconvert_exporter": "python",
   "pygments_lexer": "ipython3",
   "version": "3.8.16"
  }
 },
 "nbformat": 4,
 "nbformat_minor": 5
}
